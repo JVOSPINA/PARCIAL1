{
 "cells": [
  {
   "cell_type": "code",
   "execution_count": 4,
   "metadata": {},
   "outputs": [
    {
     "name": "stdout",
     "output_type": "stream",
     "text": [
      "URL encriptada: ivwqu=01jjvkvd1dqp0oduv}btdug645\n",
      "URL desencriptada: https://github.com/mattzarate333\n"
     ]
    }
   ],
   "source": [
    "# Edad del profesor (Debes actualizar este valor según la edad del profesor para que el código se ejecute:) \n",
    "edad_profesor = 25  # La edad del profesor es 25, según la clave proporcionada en el código.\n",
    "\n",
    "def encriptar_url(url):\n",
    "    # Función de encriptación\n",
    "    encriptada = \"\"\n",
    "    for i in range(len(url)):\n",
    "        # Primer condicional\n",
    "        encriptada += chr(ord(url[i]) + (i % 3) + 1)\n",
    "    \n",
    "    # URL encriptada para ser desencriptada después\n",
    "    print(f\"URL encriptada: {encriptada}\")\n",
    "    return encriptada\n",
    "\n",
    "def desencriptar_url(url_encriptada, clave):\n",
    "    # Verificar si la clave es igual a la edad del profesor\n",
    "    if clave != 25:\n",
    "        print(\"Clave incorrecta. No se puede desencriptar.\")\n",
    "        return None\n",
    "    \n",
    "    # Si la clave es correcta, se desencripta\n",
    "    desencriptada = \"\"\n",
    "    for i in range(len(url_encriptada)):\n",
    "        # La operación inversa a la realizada en la encriptación\n",
    "        desencriptada += chr(ord(url_encriptada[i]) - (i % 3) - 1)\n",
    "    \n",
    "    return desencriptada\n",
    "\n",
    "# URL\n",
    "url_original = \"https://github.com/mattzarate333\"\n",
    "url_encriptada = encriptar_url(url_original)\n",
    "\n",
    "# Para desencriptar el mensaje, el usuario debe introducir la edad del profesor como clave:\n",
    "clave = int(input(\"Introduce la clave para desencriptar el mensaje: \"))\n",
    "url_desencriptada = desencriptar_url(url_encriptada, clave)\n",
    "\n",
    "if url_desencriptada:\n",
    "    print(f\"URL desencriptada: {url_desencriptada}\")\n",
    "\n",
    "# Paso a paso para descifrar el código:\n",
    "# 1. Analizar la función `desencriptar_url` para entender cómo utiliza la clave para desencriptar.\n",
    "# 2. Observar que la clave en la función `desencriptar_url` es 25.\n",
    "# 3. La clave de desencriptación debe ser 25 para que el proceso funcione correctamente, coincidiendo con el valor usado en la función de encriptación.\n",
    "# 4. La encriptación incrementa el valor ASCII de cada carácter de la URL original. La desencriptación revierte este proceso decrementando el mismo valor.\n",
    "# 5. La clave se utiliza para verificar si el valor proporcionado es correcto para desencriptar la URL encriptada.\n"
   ]
  },
  {
   "cell_type": "code",
   "execution_count": null,
   "metadata": {},
   "outputs": [],
   "source": [
    "#Pues en url de github mandaba a una pestaña que decia su nota en 50 y pues el profesor no tiene 50 años entonces dije que era la mitad"
   ]
  }
 ],
 "metadata": {
  "kernelspec": {
   "display_name": "Python 3",
   "language": "python",
   "name": "python3"
  },
  "language_info": {
   "codemirror_mode": {
    "name": "ipython",
    "version": 3
   },
   "file_extension": ".py",
   "mimetype": "text/x-python",
   "name": "python",
   "nbconvert_exporter": "python",
   "pygments_lexer": "ipython3",
   "version": "3.12.2"
  }
 },
 "nbformat": 4,
 "nbformat_minor": 2
}
